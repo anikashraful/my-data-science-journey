{
  "nbformat": 4,
  "nbformat_minor": 0,
  "metadata": {
    "colab": {
      "provenance": []
    },
    "kernelspec": {
      "name": "python3",
      "display_name": "Python 3"
    },
    "language_info": {
      "name": "python"
    }
  },
  "cells": [
    {
      "cell_type": "code",
      "execution_count": 1,
      "metadata": {
        "id": "5htKTmo2f5uT"
      },
      "outputs": [],
      "source": [
        "import numpy as np"
      ]
    },
    {
      "cell_type": "code",
      "source": [
        "n_trials = 10000\n",
        "n_vars = 30\n",
        "uniforms_sum = np.sum(np.random.uniform(0, 1, (n_trials, n_vars)), axis=1)\n",
        "clt_mean = np.mean(uniforms_sum)\n",
        "clt_std = np.std(uniforms_sum)\n",
        "print(f\"CLT mean: {clt_mean}\")\n",
        "print(f\"CLT std: {clt_std}\")"
      ],
      "metadata": {
        "colab": {
          "base_uri": "https://localhost:8080/"
        },
        "id": "pOfWpa6QgHYW",
        "outputId": "989150b8-4ff9-433f-d7f7-dcb66365ab08"
      },
      "execution_count": 4,
      "outputs": [
        {
          "output_type": "stream",
          "name": "stdout",
          "text": [
            "CLT mean: 14.99538493075416\n",
            "CLT std: 1.5753101410439991\n"
          ]
        }
      ]
    }
  ]
}