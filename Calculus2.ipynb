{
  "nbformat": 4,
  "nbformat_minor": 0,
  "metadata": {
    "colab": {
      "provenance": []
    },
    "kernelspec": {
      "name": "python3",
      "display_name": "Python 3"
    },
    "language_info": {
      "name": "python"
    }
  },
  "cells": [
    {
      "cell_type": "markdown",
      "source": [
        "Partial Derivatives"
      ],
      "metadata": {
        "id": "urWwrFxpMpjE"
      }
    },
    {
      "cell_type": "code",
      "source": [
        "from sympy import symbols, diff\n",
        "\n",
        "x, y = symbols('x y')\n",
        "f = x**2 * y + 3 * x * y\n",
        "df_dx = diff(f, x)\n",
        "df_dy = diff(f, y)\n",
        "print(df_dx)\n",
        "print(df_dy)"
      ],
      "metadata": {
        "colab": {
          "base_uri": "https://localhost:8080/"
        },
        "id": "G4Z2YzNYMuzs",
        "outputId": "1a89e866-08c7-4ee9-fd94-c39a952bb972"
      },
      "execution_count": 14,
      "outputs": [
        {
          "output_type": "stream",
          "name": "stdout",
          "text": [
            "2*x*y + 3*y\n",
            "x**2 + 3*x\n"
          ]
        }
      ]
    },
    {
      "cell_type": "markdown",
      "source": [
        "Chain Rule"
      ],
      "metadata": {
        "id": "FRGiWze9N5es"
      }
    },
    {
      "cell_type": "code",
      "source": [
        "from sympy import symbols, sin, diff\n",
        "\n",
        "x = symbols('x')\n",
        "g = sin(x)**3\n",
        "dg_dx = diff(g, x)\n",
        "print(dg_dx)"
      ],
      "metadata": {
        "colab": {
          "base_uri": "https://localhost:8080/"
        },
        "id": "MnIXD1ZFN6bP",
        "outputId": "5368c709-c9a4-4b0a-c043-877005652d32"
      },
      "execution_count": 19,
      "outputs": [
        {
          "output_type": "stream",
          "name": "stdout",
          "text": [
            "3*sin(x)**2*cos(x)\n"
          ]
        }
      ]
    },
    {
      "cell_type": "markdown",
      "source": [
        "Numerical Double Integral"
      ],
      "metadata": {
        "id": "8AZ1W3U6QCej"
      }
    },
    {
      "cell_type": "code",
      "source": [
        "from scipy.integrate import dblquad\n",
        "import numpy as np\n",
        "\n",
        "def f(y, x):\n",
        "  return x * y\n",
        "\n",
        "result, error = dblquad(f, 0, 1, lambda x: 0, lambda x: 1)\n",
        "print(result, error)"
      ],
      "metadata": {
        "colab": {
          "base_uri": "https://localhost:8080/"
        },
        "id": "5l0VftLgQDTK",
        "outputId": "e7168b71-c7b5-4553-bd46-180fc014c0d2"
      },
      "execution_count": 21,
      "outputs": [
        {
          "output_type": "stream",
          "name": "stdout",
          "text": [
            "0.24999999999999997 5.539061329123429e-15\n"
          ]
        }
      ]
    },
    {
      "cell_type": "markdown",
      "source": [
        "Limits"
      ],
      "metadata": {
        "id": "5u_-b9_EQwPJ"
      }
    },
    {
      "cell_type": "code",
      "source": [
        "from sympy import symbols, sin, limit\n",
        "\n",
        "x = symbols('x')\n",
        "f = sin(x) / x\n",
        "limit_val = limit(f, x, 0)\n",
        "print(limit_val)"
      ],
      "metadata": {
        "colab": {
          "base_uri": "https://localhost:8080/"
        },
        "id": "x1F7eH6HQxE0",
        "outputId": "4e20bd81-1358-4b2a-fd1e-38d177617881"
      },
      "execution_count": 22,
      "outputs": [
        {
          "output_type": "stream",
          "name": "stdout",
          "text": [
            "1\n"
          ]
        }
      ]
    },
    {
      "cell_type": "markdown",
      "source": [
        "Taylor Series Expansion"
      ],
      "metadata": {
        "id": "FY4TCi2ERGis"
      }
    },
    {
      "cell_type": "code",
      "source": [
        "from sympy import symbols, exp, series\n",
        "\n",
        "x = symbols('x')\n",
        "f = exp(x)\n",
        "taylor_series = series(f, x, 0, 4)\n",
        "print(taylor_series)"
      ],
      "metadata": {
        "colab": {
          "base_uri": "https://localhost:8080/"
        },
        "id": "dvJaCxvoRHKv",
        "outputId": "522165c9-6472-4a3b-da32-d67b38668c87"
      },
      "execution_count": 23,
      "outputs": [
        {
          "output_type": "stream",
          "name": "stdout",
          "text": [
            "1 + x + x**2/2 + x**3/6 + O(x**4)\n"
          ]
        }
      ]
    },
    {
      "cell_type": "markdown",
      "source": [
        "Gradient Descent with PyTorch (Autograd)"
      ],
      "metadata": {
        "id": "cGGq9aUURlYM"
      }
    },
    {
      "cell_type": "code",
      "source": [
        "import torch\n",
        "\n",
        "theta = torch.tensor(0.0, requires_grad=True)\n",
        "optimizer = torch.optim.SGD([theta], lr=0.1)\n",
        "f = lambda t: (t - 2)**2 + torch.sin(t)\n",
        "\n",
        "for i in range(100):\n",
        "    optimizer.zero_grad()\n",
        "    loss = f(theta)\n",
        "    loss.backward()\n",
        "    optimizer.step()\n",
        "    if i % 20 == 0:\n",
        "        print(f'Iter {i}: theta={theta.item():.4f}, loss={loss.item():.4f}')\n",
        "\n",
        "print(f'Min at theta={theta.item():.4f}')"
      ],
      "metadata": {
        "colab": {
          "base_uri": "https://localhost:8080/"
        },
        "id": "hqM1DdXwRmNH",
        "outputId": "4813bcb0-7185-4c81-fcd9-d71eaa08243a"
      },
      "execution_count": 24,
      "outputs": [
        {
          "output_type": "stream",
          "name": "stdout",
          "text": [
            "Iter 0: theta=0.3000, loss=4.0000\n",
            "Iter 20: theta=2.1695, loss=0.8609\n",
            "Iter 40: theta=2.3399, loss=0.8341\n",
            "Iter 60: theta=2.3513, loss=0.8340\n",
            "Iter 80: theta=2.3521, loss=0.8340\n",
            "Min at theta=2.3521\n"
          ]
        }
      ]
    }
  ]
}