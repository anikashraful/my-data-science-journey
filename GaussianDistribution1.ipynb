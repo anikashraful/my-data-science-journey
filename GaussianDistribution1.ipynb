{
  "nbformat": 4,
  "nbformat_minor": 0,
  "metadata": {
    "colab": {
      "provenance": []
    },
    "kernelspec": {
      "name": "python3",
      "display_name": "Python 3"
    },
    "language_info": {
      "name": "python"
    }
  },
  "cells": [
    {
      "cell_type": "code",
      "execution_count": 1,
      "metadata": {
        "id": "5htKTmo2f5uT"
      },
      "outputs": [],
      "source": [
        "import numpy as np"
      ]
    },
    {
      "cell_type": "code",
      "source": [
        "n_samples = 10000\n",
        "samples = np.random.normal(0, 1, n_samples)\n",
        "mean_sample = np.mean(samples)\n",
        "std_sample = np.std(samples)\n",
        "print(mean_sample)\n",
        "print(std_sample)"
      ],
      "metadata": {
        "colab": {
          "base_uri": "https://localhost:8080/"
        },
        "id": "pOfWpa6QgHYW",
        "outputId": "f6134217-3982-4b6c-ac66-d68ba3fa5a89"
      },
      "execution_count": 2,
      "outputs": [
        {
          "output_type": "stream",
          "name": "stdout",
          "text": [
            "0.02069349273763159\n",
            "0.9995328142174732\n"
          ]
        }
      ]
    }
  ]
}