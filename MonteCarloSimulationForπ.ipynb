{
  "nbformat": 4,
  "nbformat_minor": 0,
  "metadata": {
    "colab": {
      "provenance": []
    },
    "kernelspec": {
      "name": "python3",
      "display_name": "Python 3"
    },
    "language_info": {
      "name": "python"
    }
  },
  "cells": [
    {
      "cell_type": "code",
      "execution_count": 3,
      "metadata": {
        "id": "Tl7Yx25beM1Y"
      },
      "outputs": [],
      "source": [
        "import numpy as np"
      ]
    },
    {
      "cell_type": "code",
      "source": [
        "def estimate_pi(n_points):\n",
        "  points = np.random.uniform(-1, 1, (n_points, 2))\n",
        "  distance = np.sum(points**2, axis=1)\n",
        "  inside_circle = np.sum(distance <= 1)\n",
        "  pi_estimate = 4 * inside_circle / n_points\n",
        "  return pi_estimate\n",
        "\n",
        "n_points = 1000000\n",
        "pi_estimate = estimate_pi(n_points)\n",
        "print(f\"Estimated value of pi: {pi_estimate}\")"
      ],
      "metadata": {
        "colab": {
          "base_uri": "https://localhost:8080/"
        },
        "id": "Aekd_NfCgz8F",
        "outputId": "85df0766-fd1d-4573-dbf4-91216676e252"
      },
      "execution_count": 10,
      "outputs": [
        {
          "output_type": "stream",
          "name": "stdout",
          "text": [
            "Estimated value of pi: 3.141812\n"
          ]
        }
      ]
    }
  ]
}