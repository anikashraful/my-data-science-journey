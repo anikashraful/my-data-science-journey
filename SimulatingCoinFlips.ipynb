{
  "nbformat": 4,
  "nbformat_minor": 0,
  "metadata": {
    "colab": {
      "provenance": []
    },
    "kernelspec": {
      "name": "python3",
      "display_name": "Python 3"
    },
    "language_info": {
      "name": "python"
    }
  },
  "cells": [
    {
      "cell_type": "code",
      "execution_count": 1,
      "metadata": {
        "id": "Tl7Yx25beM1Y"
      },
      "outputs": [],
      "source": [
        "import numpy as np"
      ]
    },
    {
      "cell_type": "code",
      "source": [
        "n_flips = 10000\n",
        "flips = np.random.binomial(1, 0.5, n_flips)\n",
        "heads = np.sum(flips)\n",
        "prob_heads = heads / n_flips\n",
        "print(f\"Estimated P(heads) from {n_flips} flips: {prob_heads:.4f}\")"
      ],
      "metadata": {
        "colab": {
          "base_uri": "https://localhost:8080/"
        },
        "id": "aKeCEH5TeiJB",
        "outputId": "fa2ca754-95dc-4828-d42e-be7f3de288c9"
      },
      "execution_count": 2,
      "outputs": [
        {
          "output_type": "stream",
          "name": "stdout",
          "text": [
            "Estimated P(heads) from 10000 flips: 0.5076\n"
          ]
        }
      ]
    }
  ]
}