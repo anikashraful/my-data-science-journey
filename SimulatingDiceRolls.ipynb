{
  "nbformat": 4,
  "nbformat_minor": 0,
  "metadata": {
    "colab": {
      "provenance": []
    },
    "kernelspec": {
      "name": "python3",
      "display_name": "Python 3"
    },
    "language_info": {
      "name": "python"
    }
  },
  "cells": [
    {
      "cell_type": "code",
      "execution_count": 3,
      "metadata": {
        "id": "Tl7Yx25beM1Y"
      },
      "outputs": [],
      "source": [
        "import numpy as np"
      ]
    },
    {
      "cell_type": "code",
      "source": [
        "n_rolls = 10000\n",
        "rolls = np.random.randint(1, 7, n_rolls)\n",
        "even_rolls = np.sum(rolls % 2 == 0)\n",
        "prob_even = even_rolls / n_rolls\n",
        "print(prob_even)"
      ],
      "metadata": {
        "colab": {
          "base_uri": "https://localhost:8080/"
        },
        "id": "Aekd_NfCgz8F",
        "outputId": "6990f104-cf0f-4dd4-9095-5b329c67702f"
      },
      "execution_count": 6,
      "outputs": [
        {
          "output_type": "stream",
          "name": "stdout",
          "text": [
            "0.5089\n"
          ]
        }
      ]
    }
  ]
}